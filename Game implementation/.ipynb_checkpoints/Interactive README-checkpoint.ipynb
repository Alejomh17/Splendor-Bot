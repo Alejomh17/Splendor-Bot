{
 "cells": [
  {
   "cell_type": "code",
   "execution_count": 6,
   "metadata": {},
   "outputs": [],
   "source": [
    "from Splendor import Splendor\n",
    "nplayers = 1\n",
    "GameType = 0\n",
    "Game = Splendor(nplayers, GameType)"
   ]
  },
  {
   "cell_type": "markdown",
   "metadata": {},
   "source": [
    "We'll start with a simplified version of Splendor that I used to test my machine learning on.  The most important part of this implementation is the Splendor class.  Calling its constructor starts a new game.  It takes two arguements:  the number of players and the GameType."
   ]
  },
  {
   "cell_type": "code",
   "execution_count": 7,
   "metadata": {},
   "outputs": [
    {
     "name": "stdout",
     "output_type": "stream",
     "text": [
      "Gems: [4 4 4 4 4 5] ; Cards: VPs 15, Bonus 0, cost [1 1 1 0 0]; VPs 3, Bonus 1, cost [1 1 0 1 0]; VPs 1, Bonus 3, cost [0 1 1 1 0]; VPs 2, Bonus 2, cost [1 0 1 0 1];  ; Nobles: VPs 3, Bonus 0, cost [0 0 3 3 3]; VPs 3, Bonus 0, cost [0 3 3 3 0];  ; Players: [VPs 0, gems [0 0 0 0 0 0], cards [0 0 0 0 0], reserved []]\n"
     ]
    }
   ],
   "source": [
    "print(Game)"
   ]
  },
  {
   "cell_type": "markdown",
   "metadata": {},
   "source": [
    "Printing the Splendor object displays the game state:  The gems available, cards available, nobles available, and all Player states.  The gems are displayed as lists of 5 or 6 elements corresponding to the 5 normal gem colors, plus the wild color.  VPs is the number of victory points.  Bonus is the index of the gem type the card will give a discount for (starting from 0)."
   ]
  },
  {
   "cell_type": "code",
   "execution_count": 10,
   "metadata": {},
   "outputs": [
    {
     "name": "stdout",
     "output_type": "stream",
     "text": [
      "Gems: [4 4 4 4 4 5] ; Cards: VPs 2, Bonus 2, cost [1 0 1 0 1]; VPs 15, Bonus 0, cost [1 1 1 0 0]; VPs 3, Bonus 1, cost [1 1 0 1 0]; VPs 1, Bonus 3, cost [0 1 1 1 0];  ; Nobles: VPs 3, Bonus 0, cost [0 4 4 0 0]; VPs 3, Bonus 0, cost [0 3 3 3 0];  ; Players: [VPs 0, gems [0 0 0 0 0 0], cards [0 0 0 0 0], reserved []]\n"
     ]
    }
   ],
   "source": [
    "Game = Splendor(1,0)\n",
    "print(Game)"
   ]
  },
  {
   "cell_type": "markdown",
   "metadata": {},
   "source": [
    "GameType 0 is the simplest implementation I could think of:  Only 4 cards, one of which gives 15 points (the amount needed to win).  All the solver needs to do is pick up the gems [1 1 1 0 0], then buy the only legal card with those gems."
   ]
  },
  {
   "cell_type": "code",
   "execution_count": 11,
   "metadata": {},
   "outputs": [
    {
     "name": "stdout",
     "output_type": "stream",
     "text": [
      "Gems: [4 4 4 4 4 5] ; Cards: VPs 2, Bonus 2, cost [1 0 0 1 1]; VPs 15, Bonus 0, cost [1 1 0 0 1]; VPs 1, Bonus 3, cost [1 0 1 0 1]; VPs 3, Bonus 1, cost [0 0 0 0 2];  ; Nobles: VPs 3, Bonus 0, cost [0 0 4 4 0]; VPs 3, Bonus 0, cost [0 4 4 0 0];  ; Players: [VPs 0, gems [0 0 0 0 0 0], cards [0 0 0 0 0], reserved []]\n"
     ]
    }
   ],
   "source": [
    "Game = Splendor(1,1)\n",
    "print(Game)"
   ]
  },
  {
   "cell_type": "markdown",
   "metadata": {},
   "source": [
    "GameType 1 is slightly harder.  There is still a card worth 15 points, but its cost is randomized (but always acheivable in one turn).  Now the solver must read the cost of the 15 point card, take those gems, then buy the card."
   ]
  },
  {
   "cell_type": "code",
   "execution_count": 29,
   "metadata": {},
   "outputs": [
    {
     "name": "stdout",
     "output_type": "stream",
     "text": [
      "Gems: [4 4 4 4 4 5] ; Cards: VPs 0, Bonus 1, cost [1 0 0 0 2]; VPs 0, Bonus 3, cost [0 2 1 0 0]; VPs 0, Bonus 1, cost [1 0 1 1 1]; VPs 0, Bonus 0, cost [3 1 0 0 1]; VPs 3, Bonus 0, cost [6 0 0 0 0]; VPs 1, Bonus 2, cost [3 0 2 3 0]; VPs 2, Bonus 0, cost [0 0 0 5 3]; VPs 2, Bonus 2, cost [4 2 0 0 1]; VPs 4, Bonus 1, cost [6 3 0 0 3]; VPs 4, Bonus 0, cost [3 0 0 3 6]; VPs 3, Bonus 0, cost [0 3 3 5 3]; VPs 4, Bonus 3, cost [0 0 0 7 0];  ; Nobles: VPs 3, Bonus 0, cost [3 3 0 0 3]; VPs 3, Bonus 0, cost [3 0 0 3 3];  ; Players: [VPs 0, gems [0 0 0 0 0 0], cards [0 0 0 0 0], reserved []]\n"
     ]
    }
   ],
   "source": [
    "from Splendor_Full import Splendor_Full\n",
    "Game = Splendor_Full(1)\n",
    "print(Game)"
   ]
  },
  {
   "cell_type": "markdown",
   "metadata": {},
   "source": [
    "Splendor_Full is the full version of Splendor.  Some of the below syntax will be slightly different because there are 3 decks instead of 1, so a deck # needs to be passed to card buy/reserve methods"
   ]
  },
  {
   "cell_type": "markdown",
   "metadata": {},
   "source": [
    "# Splendor Class Variables"
   ]
  },
  {
   "cell_type": "markdown",
   "metadata": {},
   "source": [
    "Below is a list of all relevant class variables.  In a normal game, these should not be changed directly--only read to access the game state.  There are special methods that you should use to take game actions (explained in next section)."
   ]
  },
  {
   "cell_type": "markdown",
   "metadata": {},
   "source": [
    "The number of unclaimed gems of each type is stored in Game.gems"
   ]
  },
  {
   "cell_type": "code",
   "execution_count": 19,
   "metadata": {},
   "outputs": [
    {
     "name": "stdout",
     "output_type": "stream",
     "text": [
      "[4 4 4 4 4 5]\n"
     ]
    }
   ],
   "source": [
    "print(Game.gems)"
   ]
  },
  {
   "cell_type": "markdown",
   "metadata": {},
   "source": [
    "The card data for cards in play (not cards still in the deck) is stored in SplendorCard objects.  The data from those objects can be accessed as below"
   ]
  },
  {
   "cell_type": "code",
   "execution_count": 18,
   "metadata": {},
   "outputs": [
    {
     "name": "stdout",
     "output_type": "stream",
     "text": [
      "4\n",
      "<class 'SplendorCard.SplendorCard'>\n",
      "VPs 2, Bonus 2, cost [1 0 0 1 1]\n",
      "2\n",
      "2\n",
      "[1 0 0 1 1]\n"
     ]
    }
   ],
   "source": [
    "print(len(Game.cards))\n",
    "print(type(Game.cards[0]))\n",
    "print(Game.cards[0])\n",
    "print(Game.cards[0].VPs)\n",
    "print(Game.cards[0].bonus)\n",
    "print(Game.cards[0].cost)"
   ]
  },
  {
   "cell_type": "markdown",
   "metadata": {},
   "source": [
    "The noble data is also stored in SplendorCard objects (because I'm lazy).  Bonuses will not be taken into account and all VPs are 3."
   ]
  },
  {
   "cell_type": "code",
   "execution_count": 21,
   "metadata": {},
   "outputs": [
    {
     "name": "stdout",
     "output_type": "stream",
     "text": [
      "2\n",
      "<class 'SplendorCard.SplendorCard'>\n",
      "VPs 3, Bonus 0, cost [0 0 4 4 0]\n",
      "3\n",
      "0\n",
      "[0 0 4 4 0]\n"
     ]
    }
   ],
   "source": [
    "print(len(Game.nobles))\n",
    "print(type(Game.nobles[0]))\n",
    "print(Game.nobles[0])\n",
    "print(Game.nobles[0].VPs)\n",
    "print(Game.nobles[0].bonus)\n",
    "print(Game.nobles[0].cost)"
   ]
  },
  {
   "cell_type": "markdown",
   "metadata": {},
   "source": [
    "The player data is stored in a Player object."
   ]
  },
  {
   "cell_type": "code",
   "execution_count": 24,
   "metadata": {},
   "outputs": [
    {
     "name": "stdout",
     "output_type": "stream",
     "text": [
      "1\n",
      "<class 'Player.Player'>\n",
      "VPs 0, gems [0 0 0 0 0 0], cards [0 0 0 0 0], reserved []\n",
      "[0 0 0 0 0 0]\n",
      "[0 0 0 0 0]\n",
      "0\n",
      "[]\n"
     ]
    }
   ],
   "source": [
    "print(len(Game.player))\n",
    "print(type(Game.player[0]))\n",
    "print(Game.player[0])\n",
    "print(Game.player[0].gems)\n",
    "print(Game.player[0].bonuses)\n",
    "print(Game.player[0].VPs)\n",
    "print(Game.player[0].reserved)"
   ]
  },
  {
   "cell_type": "markdown",
   "metadata": {},
   "source": [
    "The game also has a winner varible which is empty until a player has 15 points when CheckWin is called."
   ]
  },
  {
   "cell_type": "code",
   "execution_count": 26,
   "metadata": {},
   "outputs": [
    {
     "name": "stdout",
     "output_type": "stream",
     "text": [
      "[]\n",
      "[0]\n"
     ]
    }
   ],
   "source": [
    "Game.CheckWin()\n",
    "print(Game.winner)\n",
    "Game.player[0].VPs = 15\n",
    "Game.CheckWin()\n",
    "print(Game.winner)"
   ]
  },
  {
   "cell_type": "markdown",
   "metadata": {},
   "source": [
    "# Splendor Class Methods"
   ]
  },
  {
   "cell_type": "markdown",
   "metadata": {},
   "source": [
    "The class methods for preforming game actions come in pairs:  A \"Check...\" function checks whether the move is legal and returns 1 if it is and 0 if not, and the actual action function preforms the action (if the action is legal).  In the simplified Splendor class, the function generally take the arguements: playern-index of player doing the action, cardn-index of the card involved, gems-length 6 numpy vector describing the number of each gem involved (note that the number of a gem can be negative to represent giving gems back--only useful if you're at the 15 gem limit).\n",
    "\n",
    "In the Splendor_Full class, the additional arguement \"deckn\" my be required to indicate the index of the deck the card involved comes from."
   ]
  },
  {
   "cell_type": "code",
   "execution_count": 1,
   "metadata": {},
   "outputs": [
    {
     "name": "stdout",
     "output_type": "stream",
     "text": [
      "Gems: [4 4 4 4 4 5] ; Cards: VPs 1, Bonus 3, cost [0 1 1 1 0]; VPs 15, Bonus 0, cost [1 1 1 0 0]; VPs 2, Bonus 2, cost [1 0 1 0 1]; VPs 3, Bonus 1, cost [1 1 0 1 0];  ; Nobles: VPs 3, Bonus 0, cost [4 0 0 0 4]; VPs 3, Bonus 0, cost [3 0 0 3 3];  ; Players: [VPs 0, gems [0 0 0 0 0 0], cards [0 0 0 0 0], reserved []]\n"
     ]
    }
   ],
   "source": [
    "from Splendor import Splendor\n",
    "import numpy as np\n",
    "np.random.seed(236)\n",
    "Game = Splendor(1,0)\n",
    "print(Game)"
   ]
  },
  {
   "cell_type": "code",
   "execution_count": 76,
   "metadata": {},
   "outputs": [
    {
     "name": "stdout",
     "output_type": "stream",
     "text": [
      "Validity = False\n",
      "Validity = True\n",
      "Gems: [3 3 3 4 4 5] ; Cards: VPs 1, Bonus 3, cost [0 1 1 1 0]; VPs 15, Bonus 0, cost [1 1 1 0 0]; VPs 2, Bonus 2, cost [1 0 1 0 1]; VPs 3, Bonus 1, cost [1 1 0 1 0];  ; Nobles: VPs 3, Bonus 0, cost [4 0 0 0 4]; VPs 3, Bonus 0, cost [3 0 0 3 3];  ; Players: [VPs 0, gems [1 1 1 0 0 0], cards [0 0 0 0 0], reserved []]\n"
     ]
    }
   ],
   "source": [
    "#Check gems and TakeGems functions.\n",
    "playern = 0\n",
    "gems = np.array([1,2,0,0,0,0])  # Illedal move\n",
    "print('Validity = %s' % bool(Game.CheckGems(playern,gems)))\n",
    "gems = np.array([1,1,1,0,0,0])\n",
    "print('Validity = %s' % bool(Game.CheckGems(playern,gems)))\n",
    "Game.TakeGems(playern,gems)\n",
    "print(Game)"
   ]
  },
  {
   "cell_type": "code",
   "execution_count": 77,
   "metadata": {},
   "outputs": [
    {
     "name": "stdout",
     "output_type": "stream",
     "text": [
      "1\n",
      "Gems: [4 4 4 4 4 5] ; Cards: VPs 1, Bonus 3, cost [0 1 1 1 0]; VPs 2, Bonus 2, cost [1 0 1 0 1]; VPs 3, Bonus 1, cost [1 1 0 1 0];  ; Nobles: VPs 3, Bonus 0, cost [4 0 0 0 4]; VPs 3, Bonus 0, cost [3 0 0 3 3];  ; Players: [VPs 15, gems [0 0 0 0 0 0], cards [1 0 0 0 0], reserved []]\n"
     ]
    }
   ],
   "source": [
    "#CheckBuy and BuyCard\n",
    "gems = np.array([1,1,1,0,0,0])\n",
    "cardn = 1\n",
    "playern = 0\n",
    "print(Game.CheckBuy(playern,cardn,gems))\n",
    "Game.BuyCard(playern,cardn,gems)\n",
    "print(Game)"
   ]
  },
  {
   "cell_type": "code",
   "execution_count": 2,
   "metadata": {},
   "outputs": [
    {
     "name": "stdout",
     "output_type": "stream",
     "text": [
      "1\n",
      "Gems: [4 4 4 4 4 4] ; Cards: VPs 15, Bonus 0, cost [1 1 1 0 0]; VPs 2, Bonus 2, cost [1 0 1 0 1]; VPs 3, Bonus 1, cost [1 1 0 1 0];  ; Nobles: VPs 3, Bonus 0, cost [4 0 0 0 4]; VPs 3, Bonus 0, cost [3 0 0 3 3];  ; Players: [VPs 0, gems [0 0 0 0 0 1], cards [0 0 0 0 0], reserved [VPs 1, Bonus 3, cost [0 1 1 1 0]]]\n"
     ]
    }
   ],
   "source": [
    "#CheckReserve and ReserveCard\n",
    "playern = 0\n",
    "cardn = 0\n",
    "gems = np.array([0,0,0,0,0,1])\n",
    "print(Game.CheckReserve(playern,cardn,gems))\n",
    "Game.ReserveCard(playern,cardn,gems)\n",
    "print(Game)"
   ]
  },
  {
   "cell_type": "markdown",
   "metadata": {},
   "source": [
    "# Convenient Solver Stuff"
   ]
  },
  {
   "cell_type": "markdown",
   "metadata": {},
   "source": [
    "The above is all you'll need to know to work with the game itself.\n",
    "Additionally, there are some convenient functions for writing solvers in the \"Convenient Solver Stuff\" folder, which I'll breifly describe here.\n",
    "\n",
    "MakeMove(Game,playern,Player,NN,Levels) takes your Splendor object, player index, player object, pytorch neural net, and a integer representing the number of levels down the decision tree to search, and makes the \"best\" move.  You'll likely want to alter the specifics based on your implementation.\n",
    "\n",
    "NeuralNet4 is my most recent implementation of a neural net object\n",
    "\n",
    "InputVector takes the Game state and translates it into a vector, so that it can be neural netted\n",
    "\n",
    "helper contains a function that will play a bunch of games given a NN and record outcomes for reinforcement learning"
   ]
  },
  {
   "cell_type": "markdown",
   "metadata": {},
   "source": [
    "# My rudimentary solvers"
   ]
  },
  {
   "cell_type": "markdown",
   "metadata": {},
   "source": [
    "My solvers for the simplified Splendor are in the \"Scott Simple Genetic Algorithm\" and \"Scott Simple Reinforcement Gradient Descent\".  The genetic algorithm is good enough to solve the simplest case, but not enough to solve the second simplest.  So far the best I have is the \"MultiReinforcement\" algorithm, which can very quickly solve the simplest case, but still averages at best ~2.6 moves in the second simplest case (optimal solution is 2 moves)."
   ]
  }
 ],
 "metadata": {
  "kernelspec": {
   "display_name": "Python 3",
   "language": "python",
   "name": "python3"
  },
  "language_info": {
   "codemirror_mode": {
    "name": "ipython",
    "version": 3
   },
   "file_extension": ".py",
   "mimetype": "text/x-python",
   "name": "python",
   "nbconvert_exporter": "python",
   "pygments_lexer": "ipython3",
   "version": "3.7.1"
  }
 },
 "nbformat": 4,
 "nbformat_minor": 2
}
